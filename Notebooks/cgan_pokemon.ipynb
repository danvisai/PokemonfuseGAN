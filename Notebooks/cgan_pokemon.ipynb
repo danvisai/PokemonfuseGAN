{
 "cells": [
  {
   "cell_type": "markdown",
   "id": "b076bd1a-b236-4fbc-953d-8295b25122ae",
   "metadata": {},
   "source": [
    "# 🤪 Conditional WGAN-GP on CelebA Faces - Train"
   ]
  },
  {
   "cell_type": "markdown",
   "id": "9235cbd1-f136-411c-88d9-f69f270c0b96",
   "metadata": {},
   "source": [
    "In this notebook, we'll walk through the steps required to train your own Conditional GAN on the CelebA faces dataset"
   ]
  },
  {
   "cell_type": "markdown",
   "id": "71cc98c1-83bf-4e5c-88d2-b3c55002dc65",
   "metadata": {},
   "source": [
    "The code has been adapted from the excellent [CGAN tutorial](https://keras.io/examples/generative/conditional_gan/) created by Sayak Paul, available on the Keras website."
   ]
  },
  {
   "cell_type": "code",
   "execution_count": 1,
   "id": "84acc7be-6764-4668-b2bb-178f63deeed3",
   "metadata": {},
   "outputs": [
    {
     "name": "stderr",
     "output_type": "stream",
     "text": [
      "2023-10-18 18:22:34.964821: I tensorflow/core/platform/cpu_feature_guard.cc:193] This TensorFlow binary is optimized with oneAPI Deep Neural Network Library (oneDNN) to use the following CPU instructions in performance-critical operations:  AVX2 FMA\n",
      "To enable them in other operations, rebuild TensorFlow with the appropriate compiler flags.\n",
      "2023-10-18 18:22:35.418182: E tensorflow/stream_executor/cuda/cuda_blas.cc:2981] Unable to register cuBLAS factory: Attempting to register factory for plugin cuBLAS when one has already been registered\n"
     ]
    }
   ],
   "source": [
    "%load_ext autoreload\n",
    "%autoreload 2\n",
    "import numpy as np\n",
    "import pandas as pd\n",
    "import csv\n",
    "\n",
    "import tensorflow as tf\n",
    "from tensorflow.keras import (\n",
    "    layers,\n",
    "    models,\n",
    "    callbacks,\n",
    "    utils,\n",
    "    metrics,\n",
    "    optimizers,\n",
    ")\n",
    "from keras_preprocessing.image import ImageDataGenerator\n",
    "\n",
    "from notebooks.utils import display, sample_batch \n",
    "from IPython.display import clear_output\n"
   ]
  },
  {
   "cell_type": "markdown",
   "id": "339e6268-ebd7-4feb-86db-1fe7abccdbe5",
   "metadata": {},
   "source": [
    "## 0. Parameters <a name=\"parameters\"></a>"
   ]
  },
  {
   "cell_type": "code",
   "execution_count": 2,
   "id": "1b2ee6ce-129f-4833-b0c5-fa567381c4e0",
   "metadata": {},
   "outputs": [],
   "source": [
    "IMAGE_SIZE = 64\n",
    "CHANNELS = 3\n",
    "CLASSES = 32\n",
    "BATCH_SIZE = 128\n",
    "Z_DIM = 100\n",
    "LEARNING_RATE = 0.00005\n",
    "ADAM_BETA_1 = 0.5\n",
    "ADAM_BETA_2 = 0.999\n",
    "EPOCHS = 20\n",
    "CRITIC_STEPS = 3\n",
    "GP_WEIGHT = 10.0\n",
    "LOAD_MODEL = True\n",
    "ADAM_BETA_1 = 0.5\n",
    "ADAM_BETA_2 = 0.9\n",
    "LABEL = 'Normal' #['Normal', 'Fighting', 'Flying', 'Poison', 'Ground', 'Rock',\n",
    "       #'Bug', 'Ghost', 'Steel', 'Fire', 'Water', 'Grass', 'Electric',\n",
    "       #'Psychic', 'Ice', 'Dragon', 'Dark', 'Fairy', 'Monster', 'Water 1',\n",
    "       #'Bug.1', 'Flying.1', 'Field', 'Fairy.1', 'Grass.1', 'Human-Like',\n",
    "       #'Water 3', 'Mineral', 'Amorphous', 'Water 2', 'Dragon.1',\n",
    "       #'Undiscovered']\n",
    "\n",
    "attributes_csv = \"/app/data/pokemon sprite/pokemon_attr2.csv\"\n",
    "#    \"/app/data/celeba-dataset/img_align_celeba\",\n",
    "#\"/app/data/celeba-dataset/list_attr_celeba.csv\"\n",
    "data_dir = \"/app/data/pokemon sprite/Test2\""
   ]
  },
  {
   "cell_type": "markdown",
   "id": "b7716fac-0010-49b0-b98e-53be2259edde",
   "metadata": {},
   "source": [
    "## 1. Prepare the data <a name=\"prepare\"></a>"
   ]
  },
  {
   "cell_type": "code",
   "execution_count": 3,
   "id": "7d8d9aad-59c1-46bf-9c37-d73bf90cc1bb",
   "metadata": {},
   "outputs": [
    {
     "name": "stdout",
     "output_type": "stream",
     "text": [
      "Index(['image_id', 'Normal', 'Fighting', 'Flying', 'Poison', 'Ground', 'Rock',\n",
      "       'Bug', 'Ghost', 'Steel', 'Fire', 'Water', 'Grass', 'Electric',\n",
      "       'Psychic', 'Ice', 'Dragon', 'Dark', 'Fairy', 'Monster', 'Water 1',\n",
      "       'Bug.1', 'Flying.1', 'Field', 'Fairy.1', 'Grass.1', 'Human-Like',\n",
      "       'Water 3', 'Mineral', 'Amorphous', 'Water 2', 'Dragon.1',\n",
      "       'Undiscovered'],\n",
      "      dtype='object')\n"
     ]
    }
   ],
   "source": [
    "# Load the label dataset\n",
    "attributes = pd.read_csv(attributes_csv)\n",
    "data =attributes\n",
    "print(attributes.columns)\n",
    "attributes.head()\n",
    "\n",
    "data = data.values.tolist()##tf.convert_to_tensor(data.values.tolist())#.values.tolist()#attributes.to_numpy()\n",
    "#labels_np\n",
    "#data"
   ]
  },
  {
   "cell_type": "code",
   "execution_count": 4,
   "id": "4d8876d4-a6a6-4a52-9b1e-cd985d43df20",
   "metadata": {},
   "outputs": [],
   "source": [
    "# Load the data\n",
    "# labels = attributes.values.tolist()\n",
    "# #int_labels = [x if x == 1 else 0 for x in labels]\n",
    "\n",
    "# len(labels)\n",
    "#labels"
   ]
  },
  {
   "cell_type": "code",
   "execution_count": 5,
   "id": "a09fcc4f-5011-479d-b912-cfbd522673d8",
   "metadata": {},
   "outputs": [],
   "source": [
    "# labelList = []\n",
    "# for i in columns:\n",
    "#     labelList.append(attributes.columns.get_loc(i))\n",
    "# print(labelList)\n"
   ]
  },
  {
   "cell_type": "code",
   "execution_count": 6,
   "id": "385940f9-e590-4ac9-9a29-ca26032b77c0",
   "metadata": {},
   "outputs": [],
   "source": [
    "#labelsTensor = tf.tensor(labelsList, tf.int32)\n",
    "#ys = tf.one_hot(labelsList, 32)"
   ]
  },
  {
   "cell_type": "code",
   "execution_count": null,
   "id": "4d38a9ab-cbbe-49b7-924d-98e5e3fb6c1f",
   "metadata": {},
   "outputs": [],
   "source": [
    "columns=['Normal', 'Fighting', 'Flying', 'Poison', 'Ground', 'Rock',\n",
    "       'Bug', 'Ghost', 'Steel', 'Fire', 'Water', 'Grass', 'Electric',\n",
    "       'Psychic', 'Ice', 'Dragon', 'Dark', 'Fairy', 'Monster', 'Water 1',\n",
    "       'Bug.1', 'Flying.1', 'Field', 'Fairy.1', 'Grass.1', 'Human-Like',\n",
    "       'Water 3', 'Mineral', 'Amorphous', 'Water 2', 'Dragon.1',\n",
    "       'Undiscovered']\n",
    "\n",
    "train_data = utils.image_dataset_from_directory(\n",
    "   data_dir,\n",
    "#   labels=labelList,\n",
    "   labels='inferred',\n",
    "   #label_mode=\"categorical\",\n",
    "   color_mode=\"rgb\",\n",
    "   image_size=(IMAGE_SIZE, IMAGE_SIZE),\n",
    "   batch_size=BATCH_SIZE,\n",
    "   shuffle=True,\n",
    "   seed=42,\n",
    "   interpolation=\"bilinear\",\n",
    ")\n",
    "\n",
    "#train_data = train_data.repeat()\n",
    "\n",
    "#datagen=ImageDataGenerator(rescale=1./255.)\n",
    "\n",
    "#train_data=ImageDataGenerator(rescale=1./255.)\n",
    "\n",
    "# train_data=datagen.flow_from_dataframe(\n",
    "#     dataframe=data,\n",
    "#     directory=data_dir,\n",
    "#     x_col=\"image_id\",\n",
    "#     y_col=columns,\n",
    "#     batch_size=32,\n",
    "#     seed=42,\n",
    "#     shuffle=True,\n",
    "#     class_mode=\"raw\",\n",
    "#     target_size=(64,64)\n",
    "# )"
   ]
  },
  {
   "cell_type": "code",
   "execution_count": null,
   "id": "776ddf7c-b6f0-47e2-937a-cc63b3c48733",
   "metadata": {},
   "outputs": [],
   "source": [
    "#train_data = train_data.repeat()"
   ]
  },
  {
   "cell_type": "code",
   "execution_count": null,
   "id": "d35cbd09-68f2-48f6-b4d8-9d5bd9e640f3",
   "metadata": {},
   "outputs": [],
   "source": [
    "# #train_dataset.datgen_row()\n",
    "# with open(attributes_csv, \"r\") as f:\n",
    "#     csvreader = csv.reader(f)\n",
    "#     ds = tf.data.Dataset.from_generator(lambda: map(tuple, csvreader),\n",
    "#                                         (tf.uint8,) * (28 ** 2))"
   ]
  },
  {
   "cell_type": "code",
   "execution_count": null,
   "id": "8b7fd7e5-2794-493c-b595-87483fcdd5a4",
   "metadata": {},
   "outputs": [],
   "source": [
    "# ohe_encoded_data =pd.get_dummies(attributes,columns = columns)\n",
    "\n",
    "# ohe_encoded_data"
   ]
  },
  {
   "cell_type": "code",
   "execution_count": null,
   "id": "9615b8ae-bca2-4f26-9002-7511eb012460",
   "metadata": {},
   "outputs": [],
   "source": [
    "\n",
    "# train_gen = tf.data.Dataset.from_generator(lambda:\n",
    "#                                            ImageDataGenerator().flow_from_directory(data_dir,\n",
    "#                                                                                    color_mode = 'rgb',\n",
    "#                                                                                     classes = labelList, #one-hot encoded 2D array of labels\n",
    "#                                                                                    class_mode = 'categorical',\n",
    "#                                                                                    ),(tf.float32,tf.float32))"
   ]
  },
  {
   "cell_type": "code",
   "execution_count": null,
   "id": "cab5488b-c978-4cdc-89fc-9db137ee393a",
   "metadata": {},
   "outputs": [],
   "source": [
    "# print(train_gen)"
   ]
  },
  {
   "cell_type": "code",
   "execution_count": null,
   "id": "e8c6ad4e-2d89-420f-a09b-79b8cbfa6137",
   "metadata": {},
   "outputs": [],
   "source": [
    "# type(train_data)\n",
    "\n",
    "# train_dataset = tf.data.Dataset.from_generator(\n",
    "#     lambda: train_data ,  # Our generator \n",
    "#     #output_shapes = (32, 64, 64, 3),\n",
    "#     #output_types = (tf.int32,tf.int32,tf.int32,tf.int32) , # How we're expecting our output dtype\n",
    "#     output_signature = (\n",
    "#          tf.TensorSpec(shape=(None, 32), dtype=tf.float32),\n",
    "#          tf.TensorSpec(shape=(),dtype=tf.int64),\n",
    "# )\n",
    "\n",
    "#)\n",
    "\n",
    "# train_dataset = tf.data.Dataset.from_generator(\n",
    "#     train_data ,\n",
    "#     (tf.float32, tf.int32),\n",
    "#     (tf.TensorShape([32,64,64]),\n",
    "#      tf.TensorShape([3]))\n",
    "# )"
   ]
  },
  {
   "cell_type": "code",
   "execution_count": null,
   "id": "ebae2f0d-59fd-4796-841f-7213eae638de",
   "metadata": {},
   "outputs": [],
   "source": [
    "# Preprocess the data\n",
    "def preprocess(img):\n",
    "    \"\"\"\n",
    "    Normalize and reshape the images\n",
    "    \"\"\"\n",
    "    img = (tf.cast(img, \"float32\") - 127.5) / 127.5\n",
    "    \n",
    "    return img\n",
    "\n",
    "\n",
    "train = train_data.map(\n",
    "    lambda x, y: (preprocess(x), tf.one_hot(y, depth=CLASSES))\n",
    ")\n",
    "\n",
    "#train = train_data"
   ]
  },
  {
   "cell_type": "code",
   "execution_count": null,
   "id": "fa53709f-7f3f-483b-9db8-2e5f9b9942c2",
   "metadata": {},
   "outputs": [],
   "source": [
    "# Show some faces from the training set\n",
    "train_sample = sample_batch(train)"
   ]
  },
  {
   "cell_type": "code",
   "execution_count": null,
   "id": "b86c15ef-82b2-4a75-99f7-2d8810440403",
   "metadata": {},
   "outputs": [],
   "source": [
    "display(train_sample, cmap=None)"
   ]
  },
  {
   "cell_type": "code",
   "execution_count": null,
   "id": "9eb99ac8-e877-44e3-b07d-8b8f18f067f6",
   "metadata": {},
   "outputs": [],
   "source": [
    "train"
   ]
  },
  {
   "cell_type": "markdown",
   "id": "aff50401-3abe-4c10-bba8-b35bc13ad7d5",
   "metadata": {
    "tags": []
   },
   "source": [
    "## 2. Build the GAN <a name=\"build\"></a>"
   ]
  },
  {
   "cell_type": "code",
   "execution_count": null,
   "id": "371eb69d-e534-4666-a412-b5b6fe24689a",
   "metadata": {},
   "outputs": [],
   "source": [
    "critic_input = layers.Input(shape=(IMAGE_SIZE, IMAGE_SIZE, CHANNELS))\n",
    "label_input = layers.Input(shape=(IMAGE_SIZE, IMAGE_SIZE, CLASSES))\n",
    "x = layers.Concatenate(axis=-1)([critic_input, label_input])\n",
    "x = layers.Conv2D(64, kernel_size=4, strides=2, padding=\"same\")(x)\n",
    "x = layers.LeakyReLU(0.2)(x)\n",
    "x = layers.Conv2D(128, kernel_size=4, strides=2, padding=\"same\")(x)\n",
    "x = layers.LeakyReLU()(x)\n",
    "x = layers.Dropout(0.3)(x)\n",
    "x = layers.Conv2D(128, kernel_size=4, strides=2, padding=\"same\")(x)\n",
    "x = layers.LeakyReLU(0.2)(x)\n",
    "x = layers.Dropout(0.3)(x)\n",
    "x = layers.Conv2D(128, kernel_size=4, strides=2, padding=\"same\")(x)\n",
    "x = layers.LeakyReLU(0.2)(x)\n",
    "x = layers.Dropout(0.3)(x)\n",
    "x = layers.Conv2D(1, kernel_size=4, strides=1, padding=\"valid\")(x)\n",
    "critic_output = layers.Flatten()(x)\n",
    "\n",
    "critic = models.Model([critic_input, label_input], critic_output)\n",
    "critic.summary()"
   ]
  },
  {
   "cell_type": "code",
   "execution_count": null,
   "id": "f26b71d7-f2d9-432a-aa8a-89fc76bae521",
   "metadata": {},
   "outputs": [],
   "source": [
    "#visualkeras.layered_view(critic, to_file='./critic.png').show() # write and show"
   ]
  },
  {
   "cell_type": "code",
   "execution_count": null,
   "id": "086e2584-c60d-4990-89f4-2092c44e023e",
   "metadata": {},
   "outputs": [],
   "source": [
    "generator_input = layers.Input(shape=(Z_DIM,))\n",
    "label_input = layers.Input(shape=(CLASSES,))\n",
    "x = layers.Concatenate(axis=-1)([generator_input, label_input])\n",
    "x = layers.Reshape((1, 1, Z_DIM + CLASSES))(x) #1,1\n",
    "x = layers.Conv2DTranspose(\n",
    "    128, kernel_size=4, strides=1, padding=\"valid\", use_bias=False\n",
    ")(x)\n",
    "x = layers.BatchNormalization(momentum=0.9)(x)\n",
    "x = layers.LeakyReLU(0.2)(x)\n",
    "x = layers.Conv2DTranspose(\n",
    "    128, kernel_size=4, strides=2, padding=\"same\", use_bias=False\n",
    ")(x)\n",
    "x = layers.BatchNormalization(momentum=0.9)(x)\n",
    "x = layers.LeakyReLU(0.2)(x)\n",
    "x = layers.Conv2DTranspose( \n",
    "    128, kernel_size=4, strides=2, padding=\"same\", use_bias=False\n",
    ")(x)\n",
    "x = layers.BatchNormalization(momentum=0.9)(x)\n",
    "x = layers.LeakyReLU(0.2)(x)\n",
    "x = layers.Conv2DTranspose(\n",
    "    64, kernel_size=4, strides=2, padding=\"same\", use_bias=False\n",
    ")(x)\n",
    "x = layers.BatchNormalization(momentum=0.9)(x)\n",
    "x = layers.LeakyReLU(0.2)(x)\n",
    "generator_output = layers.Conv2DTranspose(\n",
    "    CHANNELS, kernel_size=4, strides=2, padding=\"same\", activation=\"tanh\"\n",
    ")(x)\n",
    "generator = models.Model([generator_input, label_input], generator_output)\n",
    "generator.summary()"
   ]
  },
  {
   "cell_type": "code",
   "execution_count": null,
   "id": "015f799a-ea5a-4019-82f9-3ff84c1db9ab",
   "metadata": {},
   "outputs": [],
   "source": [
    "#visualkeras.layered_view(generator).show() # display using your system viewer#\n",
    "#visualkeras.layered_view(generator, to_file='./generator.png') # write to disk\n",
    "#visualkeras.layered_view(generator, to_file='./generator.png').show() # write and show"
   ]
  },
  {
   "cell_type": "code",
   "execution_count": null,
   "id": "88010f20-fb61-498c-b2b2-dac96f6c03b3",
   "metadata": {},
   "outputs": [],
   "source": [
    "class ConditionalWGAN(models.Model):\n",
    "    def __init__(self, critic, generator, latent_dim, critic_steps, gp_weight):\n",
    "        super(ConditionalWGAN, self).__init__()\n",
    "        self.critic = critic\n",
    "        self.generator = generator\n",
    "        self.latent_dim = latent_dim\n",
    "        self.critic_steps = critic_steps\n",
    "        self.gp_weight = gp_weight\n",
    "\n",
    "    def compile(self, c_optimizer, g_optimizer):\n",
    "        super(ConditionalWGAN, self).compile(run_eagerly=True)\n",
    "        self.c_optimizer = c_optimizer\n",
    "        self.g_optimizer = g_optimizer\n",
    "        self.c_wass_loss_metric = metrics.Mean(name=\"c_wass_loss\")\n",
    "        self.c_gp_metric = metrics.Mean(name=\"c_gp\")\n",
    "        self.c_loss_metric = metrics.Mean(name=\"c_loss\")\n",
    "        self.g_loss_metric = metrics.Mean(name=\"g_loss\")\n",
    "\n",
    "    @property\n",
    "    def metrics(self):\n",
    "        return [\n",
    "            self.c_loss_metric,\n",
    "            self.c_wass_loss_metric,\n",
    "            self.c_gp_metric,\n",
    "            self.g_loss_metric,\n",
    "        ]\n",
    "\n",
    "    def gradient_penalty(\n",
    "        self, batch_size, real_images, fake_images, image_one_hot_labels\n",
    "    ):\n",
    "        alpha = tf.random.normal([batch_size, 1, 1, 1], 0.0, 1.0)\n",
    "        diff = fake_images - real_images\n",
    "        interpolated = real_images + alpha * diff\n",
    "\n",
    "        with tf.GradientTape() as gp_tape:\n",
    "            gp_tape.watch(interpolated)\n",
    "            pred = self.critic(\n",
    "                [interpolated, image_one_hot_labels], training=True\n",
    "            )\n",
    "\n",
    "        grads = gp_tape.gradient(pred, [interpolated])[0]\n",
    "        norm = tf.sqrt(tf.reduce_sum(tf.square(grads), axis=[1, 2, 3]))\n",
    "        gp = tf.reduce_mean((norm - 1.0) ** 2)\n",
    "        return gp\n",
    "\n",
    "    def train_step(self, data):\n",
    "        real_images, one_hot_labels = data\n",
    "\n",
    "        image_one_hot_labels = one_hot_labels[:, None, None, :]\n",
    "        image_one_hot_labels = tf.repeat(\n",
    "            image_one_hot_labels, repeats=IMAGE_SIZE, axis=1\n",
    "        )\n",
    "        image_one_hot_labels = tf.repeat(\n",
    "            image_one_hot_labels, repeats=IMAGE_SIZE, axis=2\n",
    "        )\n",
    "\n",
    "        batch_size = tf.shape(real_images)[0]\n",
    "\n",
    "        for i in range(self.critic_steps):\n",
    "            random_latent_vectors = tf.random.normal(\n",
    "                shape=(batch_size, self.latent_dim)\n",
    "            )\n",
    "\n",
    "            with tf.GradientTape() as tape:\n",
    "                fake_images = self.generator(\n",
    "                    [random_latent_vectors, one_hot_labels], training=True\n",
    "                )\n",
    "\n",
    "                fake_predictions = self.critic(\n",
    "                    [fake_images, image_one_hot_labels], training=True\n",
    "                )\n",
    "                real_predictions = self.critic(\n",
    "                    [real_images, image_one_hot_labels], training=True\n",
    "                )\n",
    "\n",
    "                c_wass_loss = tf.reduce_mean(fake_predictions) - tf.reduce_mean(\n",
    "                    real_predictions\n",
    "                )\n",
    "                c_gp = self.gradient_penalty(\n",
    "                    batch_size, real_images, fake_images, image_one_hot_labels\n",
    "                )\n",
    "                c_loss = c_wass_loss + c_gp * self.gp_weight\n",
    "\n",
    "            c_gradient = tape.gradient(c_loss, self.critic.trainable_variables)\n",
    "            self.c_optimizer.apply_gradients(\n",
    "                zip(c_gradient, self.critic.trainable_variables)\n",
    "            )\n",
    "\n",
    "        random_latent_vectors = tf.random.normal(\n",
    "            shape=(batch_size, self.latent_dim)\n",
    "        )\n",
    "\n",
    "        with tf.GradientTape() as tape:\n",
    "            fake_images = self.generator(\n",
    "                [random_latent_vectors, one_hot_labels], training=True\n",
    "            )\n",
    "            fake_predictions = self.critic(\n",
    "                [fake_images, image_one_hot_labels], training=True\n",
    "            )\n",
    "            g_loss = -tf.reduce_mean(fake_predictions)\n",
    "\n",
    "        gen_gradient = tape.gradient(g_loss, self.generator.trainable_variables)\n",
    "        self.g_optimizer.apply_gradients(\n",
    "            zip(gen_gradient, self.generator.trainable_variables)\n",
    "        )\n",
    "\n",
    "        self.c_loss_metric.update_state(c_loss)\n",
    "        self.c_wass_loss_metric.update_state(c_wass_loss)\n",
    "        self.c_gp_metric.update_state(c_gp)\n",
    "        self.g_loss_metric.update_state(g_loss)\n",
    "\n",
    "        return {m.name: m.result() for m in self.metrics}"
   ]
  },
  {
   "cell_type": "code",
   "execution_count": null,
   "id": "edf2f892-9209-42ee-b251-1e7604df5335",
   "metadata": {},
   "outputs": [],
   "source": [
    "# Create a GAN\n",
    "cgan = ConditionalWGAN(\n",
    "    critic=critic,\n",
    "    generator=generator,\n",
    "    latent_dim=Z_DIM,\n",
    "    critic_steps=CRITIC_STEPS,\n",
    "    gp_weight=GP_WEIGHT,\n",
    ")"
   ]
  },
  {
   "cell_type": "code",
   "execution_count": null,
   "id": "b2f48907-fa82-41b5-8caa-813b2f232c79",
   "metadata": {},
   "outputs": [],
   "source": [
    "if LOAD_MODEL:\n",
    "    cgan.load_weights(\"./checkpoint/checkpoint.ckpt\")"
   ]
  },
  {
   "cell_type": "markdown",
   "id": "35b14665-4359-447b-be58-3fd58ba69084",
   "metadata": {},
   "source": [
    "## 3. Train the GAN <a name=\"train\"></a>"
   ]
  },
  {
   "cell_type": "code",
   "execution_count": null,
   "id": "b429fdad-ea9c-45a2-a556-eb950d793824",
   "metadata": {},
   "outputs": [],
   "source": [
    "# Compile the GAN\n",
    "cgan.compile(\n",
    "    c_optimizer=optimizers.Adam(\n",
    "        learning_rate=LEARNING_RATE, beta_1=ADAM_BETA_1, beta_2=ADAM_BETA_2\n",
    "    ),\n",
    "    g_optimizer=optimizers.Adam(\n",
    "        learning_rate=LEARNING_RATE, beta_1=ADAM_BETA_1, beta_2=ADAM_BETA_2\n",
    "    ),\n",
    ")"
   ]
  },
  {
   "cell_type": "code",
   "execution_count": null,
   "id": "c525e44b-b3bb-489c-9d35-fcfe3e714e6a",
   "metadata": {
    "jupyter": {
     "source_hidden": true
    },
    "tags": []
   },
   "outputs": [],
   "source": [
    "# Create a model save checkpoint\n",
    "model_checkpoint_callback = callbacks.ModelCheckpoint(\n",
    "    filepath=\"./checkpoint/checkpoint.ckpt\",\n",
    "    save_weights_only=True,\n",
    "    save_freq=\"epoch\",\n",
    "    verbose=0,\n",
    ")\n",
    "\n",
    "tensorboard_callback = callbacks.TensorBoard(log_dir=\"./logs\")\n",
    "\n",
    "\n",
    "class ImageGenerator(callbacks.Callback):\n",
    "    def __init__(self, num_img, latent_dim):\n",
    "        self.num_img = num_img\n",
    "        self.latent_dim = latent_dim\n",
    "\n",
    "    def on_epoch_end(self, epoch, logs=None):\n",
    "        random_latent_vectors = tf.random.normal(\n",
    "            shape=(self.num_img, self.latent_dim)\n",
    "        )\n",
    "        \n",
    "        for i in range(len(columns)):\n",
    "            # 0 label\n",
    "            index_lab = [0] * CLASSES\n",
    "            index_lab[i] = 1\n",
    "            label = np.repeat([index_lab], self.num_img, axis=0)\n",
    "            generated_images = self.model.generator(\n",
    "                [random_latent_vectors, label]\n",
    "            )\n",
    "            generated_images = generated_images * 127.5 + 127.5\n",
    "            generated_images = generated_images.numpy()\n",
    "            clear_output(wait=True)\n",
    "            display(\n",
    "                generated_images,\n",
    "                save_to=\"./output/generated_img_%03d_label_\" % (epoch) +columns[i]+\".png\" ,\n",
    "                cmap=None,\n",
    "            )\n",
    "            \n",
    "        \n",
    "        # 0 label\n",
    "#         zero_label = np.repeat([[1, 0]], self.num_img, axis=0)\n",
    "#         generated_images = self.model.generator(\n",
    "#             [random_latent_vectors, zero_label]\n",
    "#         )\n",
    "#         generated_images = generated_images * 127.5 + 127.5\n",
    "#         generated_images = generated_images.numpy()\n",
    "#         display(\n",
    "#             generated_images,\n",
    "#             save_to=\"./output/generated_img_%03d_label_0.png\" % (epoch),\n",
    "#             cmap=None,\n",
    "#         )\n",
    "\n",
    "#         # 1 label\n",
    "#         one_label = np.repeat([[0, 1]], self.num_img, axis=0)\n",
    "#         generated_images = self.model.generator(\n",
    "#             [random_latent_vectors, one_label]\n",
    "#         )\n",
    "#         generated_images = generated_images * 127.5 + 127.5\n",
    "#         generated_images = generated_images.numpy()\n",
    "#         display(\n",
    "#             generated_images,\n",
    "#             save_to=\"./output/generated_img_%03d_label_1.png\" % (epoch),\n",
    "#             cmap=None,\n",
    "#         )"
   ]
  },
  {
   "cell_type": "code",
   "execution_count": null,
   "id": "b3c497b7-fa40-48df-b2bf-541239cc9400",
   "metadata": {
    "tags": []
   },
   "outputs": [],
   "source": [
    "history = cgan.fit(\n",
    "    train,\n",
    "    epochs=EPOCHS * 10,\n",
    "    steps_per_epoch=100,\n",
    "    callbacks=[\n",
    "        model_checkpoint_callback,\n",
    "        tensorboard_callback,\n",
    "        ImageGenerator(num_img=10, latent_dim=Z_DIM),\n",
    "    ],\n",
    ")"
   ]
  },
  {
   "cell_type": "code",
   "execution_count": null,
   "id": "028138af-d3a5-4134-b980-d3a8a703e70f",
   "metadata": {},
   "outputs": [],
   "source": [
    "# Save the final models\n",
    "generator.save(\"./models/generator\")\n",
    "critic.save(\"./models/critic\")"
   ]
  },
  {
   "cell_type": "markdown",
   "id": "0765b66b-d12c-42c4-90fa-2ff851a9b3f5",
   "metadata": {},
   "source": [
    "## Generate images"
   ]
  },
  {
   "cell_type": "code",
   "execution_count": null,
   "id": "86576e84-afc4-443a-b68d-9a5ee13ce730",
   "metadata": {},
   "outputs": [],
   "source": [
    "# 0 label\n",
    "# z_sample = np.random.normal(size=(10, Z_DIM))\n",
    "# class_label = np.repeat([[1, 0]], 10, axis=0)\n",
    "# imgs = cgan.generator.predict([z_sample, class_label])\n",
    "# display(imgs, cmap=None)\n",
    "\n",
    "\n",
    "for i in range(len(columns)):\n",
    "        # 0 label\n",
    "        z_sample = np.random.normal(size=(10, Z_DIM))\n",
    "        index_lab = [0] * CLASSES\n",
    "        index_lab[i] = 1\n",
    "        label = np.repeat([index_lab], 10, axis=0)\n",
    "        imgs = cgan.generator.predict([z_sample, index_lab])\n",
    "        display(imgs, cmap=None)"
   ]
  },
  {
   "cell_type": "code",
   "execution_count": null,
   "id": "032fca60-2e05-4e8e-8258-9b5fa176d098",
   "metadata": {},
   "outputs": [],
   "source": [
    "# # 1 label\n",
    "# z_sample = np.random.normal(size=(10, Z_DIM))\n",
    "# class_label = np.repeat([[0, 1]], 10, axis=0)\n",
    "# imgs = cgan.generator.predict([z_sample, class_label])\n",
    "# display(imgs, cmap=None)"
   ]
  },
  {
   "cell_type": "code",
   "execution_count": null,
   "id": "7125a997-3bab-48c5-9d27-aa840e23af9e",
   "metadata": {},
   "outputs": [],
   "source": []
  }
 ],
 "metadata": {
  "kernelspec": {
   "display_name": "Python 3 (ipykernel)",
   "language": "python",
   "name": "python3"
  },
  "language_info": {
   "codemirror_mode": {
    "name": "ipython",
    "version": 3
   },
   "file_extension": ".py",
   "mimetype": "text/x-python",
   "name": "python",
   "nbconvert_exporter": "python",
   "pygments_lexer": "ipython3",
   "version": "3.8.10"
  }
 },
 "nbformat": 4,
 "nbformat_minor": 5
}
